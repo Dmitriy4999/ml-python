{
 "cells": [
  {
   "cell_type": "markdown",
   "metadata": {
    "id": "rL70m2sic0jV"
   },
   "source": [
    "# <center> Homework 1 </center>"
   ]
  },
  {
   "cell_type": "markdown",
   "metadata": {
    "id": "JVd5jRlPc0jY"
   },
   "source": [
    "# 0. Где мы сейчас?\n",
    "<img src=\"https://upload.wikimedia.org/wikipedia/commons/thumb/3/38/Jupyter_logo.svg/1200px-Jupyter_logo.svg.png\" width=\"150\">\n",
    "\n",
    "[Jupyter Notebook](https://jupyter.org/) - интерактивная среда для запуска программного кода в браузере. Удобный инструмент для анализа данных, который используется многими специалистами по data science. Позволяет выполнять отдельные ячейки с кодом, а не всю программу сразу, что очень удобно при знакомстве с данными."
   ]
  },
  {
   "cell_type": "markdown",
   "metadata": {
    "id": "k8hj3Kdvc0jZ"
   },
   "source": [
    "# 1. Python\n",
    "> Python - это свободный интерпретируемый объектно-ориентированный расширяемый встраиваемый язык программирования очень высокого уровня\n",
    "\n",
    ">*(Г.Россум, Ф.Л.Дж.Дрейк, Д.С.Откидач \"Язык программирования Python\").*\n",
    "\n",
    "А если без цитат, то питон - это просто очень крутой язык, созданный в 1991 году [Великодушным пожизненным диктатором](https://ru.wikipedia.org/wiki/%D0%92%D0%B5%D0%BB%D0%B8%D0%BA%D0%BE%D0%B4%D1%83%D1%88%D0%BD%D1%8B%D0%B9_%D0%BF%D0%BE%D0%B6%D0%B8%D0%B7%D0%BD%D0%B5%D0%BD%D0%BD%D1%8B%D0%B9_%D0%B4%D0%B8%D0%BA%D1%82%D0%B0%D1%82%D0%BE%D1%80) Гвидо ван Россумом и названный в честь любимого им шоу [Monty Python's Flying Circus](https://en.wikipedia.org/wiki/Monty_Python%27s_Flying_Circus)\n",
    "\n",
    "<img src=\"https://advancelocal-adapter-image-uploads.s3.amazonaws.com/image.oregonlive.com/home/olive-media/width2048/img/tv/photo/2018/10/10/montycastjpg-7ef393e2355a42aa.jpg\" width=\"300\">"
   ]
  },
  {
   "cell_type": "markdown",
   "metadata": {
    "id": "llQ9RXHfc0ja"
   },
   "source": [
    "# 2. Anaconda\n",
    "\n",
    "[Сборка Anaconda](https://www.anaconda.com/products/individual) включает очень много полезных библиотек для анализа данных.\n",
    "\n",
    "Среди наиболее популярных библиотек:\n",
    " - <a href=\"http://numpy.org\">Numpy</a> - это один из основных пакетов для математических вычислений. Он содержит средства для работы с многомерными массивами и высокоуровневыми математическими функциями\n",
    " - <a href=\"https://www.scipy.org/\">SciPy</a> - научные вычисления. Методы оптимизации, интегрирования, модули обработки сигналов и изображений, статистика, линейная алгебра, сплайны, кластеризация и многое другое\n",
    " -  <a href=\"http://pandas.pydata.org/\">Pandas</a> - основная библиотека для обработки и анализа данных. Предназначена для данных разной природы - матричных, панельных данных, временных рядов. Претендует на звание самого мощного и гибкого средства для анализа данных с открытым исходным кодом\n",
    " - <a href=\"http://scikit-learn.org/stable/\">Scikit-learn</a> - реализация очень многих методов машинного обучения с отличной документацией.\n",
    " - <a href=\"http://http://matplotlib.org/\">matplotlib</a> - хорошая библиотека для визуализации данных\n",
    "\n",
    " С этими библиотеками вы будете знакомится дальше на курсе, а пока давайте попрактикуемся в решении базовых задач на  чистом Python."
   ]
  },
  {
   "cell_type": "markdown",
   "metadata": {
    "id": "rfAcLe-Tc0ja"
   },
   "source": [
    "# 3. Задачки"
   ]
  },
  {
   "cell_type": "markdown",
   "metadata": {
    "id": "y7gWqyZpc0jb"
   },
   "source": [
    "## Задача 1\n",
    "$N$ хоббитов делят $K$ кусков эльфийского хлеба поровну, не делящийся нацело остаток остается в корзинке у Сэма. Напишите функцию, которая принимает на вход параметры $N$ и $K$ и возвращает два числа: $x$ - cколько кусков эльфиского хлеба достанется каждому хоббиту, и $y$ - сколько кусков остаётся в корзинке."
   ]
  },
  {
   "cell_type": "code",
   "execution_count": 4,
   "metadata": {
    "id": "m9mteFtwc0jb"
   },
   "outputs": [],
   "source": [
    "def share_bread(N, K):\n",
    "    x = K // N\n",
    "    y = K - (N * x)\n",
    "    return x, y\n",
    "\n",
    "# если в функции всё верно, то после выполнения этой строчки, не должно выскакивать ошибок\n",
    "assert share_bread(N=3, K=14) == (4, 2)"
   ]
  },
  {
   "cell_type": "markdown",
   "metadata": {
    "id": "i24Th8I7c0jc"
   },
   "source": [
    "## Задача 2\n",
    "\n",
    "В копях Мории хоббиты нашли стену, на которой высечены разные натуральные числа. Согласно древним сказаниям, это даты сражений. Хоббиты знают, что сражения происходили только по високосным годам. Помогите хоббитам определить, является ли год с данным числом датой великого сражения. Если это так, то верните строку \"YOU SHALL PASS\", иначе верните \"YOU SHALL NOT PASS\". Напомним, что в соответствии с хоббитским календарем, год является високосным, если его номер кратен 4, но не кратен 100, а также если он кратен 400."
   ]
  },
  {
   "cell_type": "code",
   "execution_count": 10,
   "metadata": {
    "id": "3SnU33pPc0jc"
   },
   "outputs": [],
   "source": [
    "def leap_year(year):\n",
    "    text_result = 'YOU SHALL NOT PASS'\n",
    "    if year % 4 == 0 or year % 400 == 0:\n",
    "        text_result = 'YOU SHALL PASS'\n",
    "    return text_result\n",
    "\n",
    "assert leap_year(5) == 'YOU SHALL NOT PASS'"
   ]
  },
  {
   "cell_type": "markdown",
   "metadata": {
    "id": "-oibBIG4c0jd"
   },
   "source": [
    "## Задача 3\n",
    "<img src=\"http://i0.kym-cdn.com/photos/images/original/001/187/255/5e9.gif\" width=300>\n",
    "\n",
    "\n",
    "Для могущественного магического ритуала Гендальфу необходимо быстро подсчитывать площадь своего амулета, который умеет менять размеры. Известно, что амулет имеет форму треугольника и Гендальф знает длину каждой из сторон. Напишите функцию, которая считает площадь амулета по трем сторонам.  \n",
    "\n",
    "**Подсказка:** используйте формулу Герона\n",
    "$$ S = \\sqrt{p(p-a)(p-b)(p-c)} $$\n",
    "$$ p = \\frac{a + b + c}{2}$$\n"
   ]
  },
  {
   "cell_type": "code",
   "execution_count": 13,
   "metadata": {
    "id": "Uln7wcTVc0jd"
   },
   "outputs": [],
   "source": [
    "import math\n",
    "\n",
    "def amulet_area(a, b, c):\n",
    "    p = (a + b + c) // 2\n",
    "    S = math.sqrt(p * (p - a) * (p - b) * (p - c))\n",
    "    return S\n",
    "\n",
    "assert amulet_area(3, 4, 5) == 6"
   ]
  },
  {
   "cell_type": "markdown",
   "metadata": {
    "id": "Os5KM6bQc0jd"
   },
   "source": [
    "## Задача 4\n",
    "\n",
    "Хоббиты собираются пешком идти до Мордора и им нужно подсчитать расстояние, которое им предстоит пройти. Хоббиты смогли вспомнить сразу несколько метрик расстояния: евклидово, манхэттена и косинусное, так что ваша задача - написать функцию под каждую из них. Важное условие - используйте только базовые функции для решения.\n",
    "\n",
    "\n",
    "* Евклидово расстояние\n",
    "$$ d(a, b) = \\sqrt{\\sum_i (a_i - b_i)^2} $$\n",
    "* Расстояние Манхэттена\n",
    "$$ d(a, b) = \\sum_i |a_i - b_i| $$\n",
    "* Косинусное расстояние\n",
    "$$ d(a, b) = 1 - \\frac{a^\\top b}{||a||_2\\cdot||b||_2}$$"
   ]
  },
  {
   "cell_type": "code",
   "metadata": {
    "editable": true,
    "id": "_21LOuZRc0jd",
    "slideshow": {
     "slide_type": ""
    },
    "tags": [],
    "ExecuteTime": {
     "end_time": "2025-01-28T15:46:49.182366Z",
     "start_time": "2025-01-28T15:46:49.179004Z"
    }
   },
   "source": [
    "import math\n",
    "\n",
    "def cal_euclidean(a, b):\n",
    "    distance = 0.0\n",
    "    for index, value in enumerate(a):\n",
    "        distance += math.pow(value - b[index], 2)\n",
    "    distance = math.sqrt(distance)\n",
    "    return distance\n",
    "\n",
    "def cal_manhattan(a, b):\n",
    "    distance = 0.0\n",
    "    for index, value in enumerate(a):\n",
    "        distance += math.fabs(value - b[index])\n",
    "    return distance\n",
    "\n",
    "def cal_cosine(a, b):\n",
    "    scalar_vector_multiply = 0.0\n",
    "    first_vector_length = 0.0\n",
    "    second_vector_length = 0.0\n",
    "    for index, value in enumerate(a):\n",
    "        scalar_vector_multiply += value * b[index]\n",
    "        first_vector_length += math.pow(value, 2)\n",
    "        second_vector_length += math.pow(b[index], 2)\n",
    "    distance = 1 - (scalar_vector_multiply / (math.sqrt(first_vector_length) * math.sqrt(second_vector_length)))\n",
    "    return distance"
   ],
   "outputs": [],
   "execution_count": 1
  },
  {
   "cell_type": "code",
   "metadata": {
    "id": "fvyqAKchc0je",
    "scrolled": true,
    "ExecuteTime": {
     "end_time": "2025-01-28T15:46:49.249752Z",
     "start_time": "2025-01-28T15:46:49.202856Z"
    }
   },
   "source": [
    "import numpy as np\n",
    "\n",
    "a = np.random.randint(-10, 10, size=10)\n",
    "b = np.random.randint(-10, 10, size=10)\n",
    "print(cal_euclidean(a, b))\n",
    "print(cal_manhattan(a, b))\n",
    "print(cal_cosine(a, b))"
   ],
   "outputs": [
    {
     "name": "stdout",
     "output_type": "stream",
     "text": [
      "30.983866769659336\n",
      "80.0\n",
      "1.2508186534694397\n"
     ]
    }
   ],
   "execution_count": 2
  },
  {
   "cell_type": "markdown",
   "metadata": {
    "id": "w1L3GDw3c0je"
   },
   "source": [
    "## Задача 5* (бонусное неоцениваемое задание)\n",
    "\n",
    "**Замечание:** Поскольку библиотеку numpy мы будем подробно разбирать дальше, то это задание является бонусным, его выполнение необязательно для сдачи ДЗ и не влияет на итоговый балл. Как вариант, можете вернуться к нему после прохождения numpy ;)\n",
    "\n"
   ]
  },
  {
   "cell_type": "markdown",
   "metadata": {
    "id": "aEDIBiRpc0je"
   },
   "source": [
    "Создайте случайный array (`np.random.rand()`) длинной 100. Преобразуйте его так, чтобы\n",
    "* Максимальный элемент(ы) был равен 1\n",
    "* Минимальный элемент(ы) был равен 0\n",
    "* Остальные элементы в интервале от 0 до 1 остаются прежними"
   ]
  },
  {
   "cell_type": "code",
   "metadata": {
    "id": "AFye6XzXc0je",
    "ExecuteTime": {
     "end_time": "2025-01-28T16:16:12.906520Z",
     "start_time": "2025-01-28T16:16:12.903205Z"
    }
   },
   "source": [
    "import numpy as np\n",
    "\n",
    "my_array = np.random.rand(100)\n",
    "max_value = np.max(my_array)\n",
    "min_value = np.min(my_array)\n",
    "my_array[my_array == max_value] = 1\n",
    "my_array[my_array == min_value] = 0\n",
    "print(np.max(my_array), np.min(my_array))\n",
    "print(my_array)"
   ],
   "outputs": [
    {
     "name": "stdout",
     "output_type": "stream",
     "text": [
      "1.0 0.0\n",
      "[0.4238934  0.99395007 0.74656415 0.40509997 0.7181467  0.44267655\n",
      " 0.98122506 0.72109291 0.52752243 0.72527861 0.60192143 0.6241789\n",
      " 0.94362754 0.69259632 0.81082227 0.87798166 0.88944909 0.66546618\n",
      " 0.42159575 0.72618129 0.7115919  0.42510207 0.96858896 0.04782735\n",
      " 0.0839449  0.95594247 0.41390531 0.80872083 0.82450527 0.74894525\n",
      " 0.86819549 0.9623806  0.04069605 0.92888487 0.15127963 0.66778016\n",
      " 0.66090031 0.08514205 0.39087027 0.89640228 0.39916125 0.69628584\n",
      " 0.31927832 0.54065878 0.81574248 0.58950865 0.4226521  0.03836954\n",
      " 0.50066373 0.26472356 1.         0.39855396 0.05478607 0.86774604\n",
      " 0.91517712 0.06118677 0.8040589  0.35537833 0.7160847  0.98756774\n",
      " 0.30662887 0.21765936 0.48174311 0.50508584 0.93719928 0.47067549\n",
      " 0.41760078 0.04725382 0.96153992 0.15287271 0.56623824 0.89051898\n",
      " 0.32953256 0.78022144 0.45482237 0.73504323 0.70712353 0.05626326\n",
      " 0.53263783 0.74457578 0.31585391 0.32426837 0.43238984 0.82463699\n",
      " 0.24416528 0.09132754 0.41634195 0.14796261 0.10105067 0.17693411\n",
      " 0.29403077 0.         0.13872045 0.72987206 0.83929784 0.50338691\n",
      " 0.66522806 0.79874504 0.78396545 0.48657456]\n"
     ]
    }
   ],
   "execution_count": 7
  },
  {
   "cell_type": "markdown",
   "metadata": {
    "id": "D84Jpwmmc0je"
   },
   "source": [
    "Создайте array размером $5 \\times 6$ с целыми числами в интервале [0,50]. Напечатайте колонку, которая содержит максимальный элемент полученной матрицы"
   ]
  },
  {
   "cell_type": "code",
   "metadata": {
    "id": "SXaKW9bec0je",
    "ExecuteTime": {
     "end_time": "2025-01-28T16:35:42.769601Z",
     "start_time": "2025-01-28T16:35:42.766607Z"
    }
   },
   "source": [
    "my_array = np.random.randint(0, 51, size=(5, 6))\n",
    "selected_column = np.where(my_array == np.max(my_array))[1][0]\n",
    "print('Shape: ',my_array.shape)\n",
    "print('Array')\n",
    "print(my_array)\n",
    "print(selected_column)"
   ],
   "outputs": [
    {
     "name": "stdout",
     "output_type": "stream",
     "text": [
      "Shape:  (5, 6)\n",
      "Array\n",
      "[[24 20  5 13  1 37]\n",
      " [40  9 10 37 38 41]\n",
      " [17 45  0  9 13 30]\n",
      " [25 10  0 46 44 31]\n",
      " [25 50 25 13 25 19]]\n",
      "1\n"
     ]
    }
   ],
   "execution_count": 14
  },
  {
   "cell_type": "markdown",
   "metadata": {
    "id": "g3scUf0_c0je"
   },
   "source": [
    "Напишите функцию, которая принимает на вход матрицу (array) X и возвращает все её уникальные строки в виде новой матрицы."
   ]
  },
  {
   "cell_type": "code",
   "metadata": {
    "id": "75j1Kyzvc0je",
    "ExecuteTime": {
     "end_time": "2025-01-28T16:46:18.390865Z",
     "start_time": "2025-01-28T16:46:18.388206Z"
    }
   },
   "source": [
    "def get_unique_rows(X):\n",
    "    return np.unique(X, axis=0)"
   ],
   "outputs": [],
   "execution_count": 16
  },
  {
   "cell_type": "code",
   "metadata": {
    "id": "HzY-9KwGc0je",
    "ExecuteTime": {
     "end_time": "2025-01-28T16:46:18.409668Z",
     "start_time": "2025-01-28T16:46:18.407374Z"
    }
   },
   "source": [
    "X = np.random.randint(4, 6, size=(10,3))\n",
    "print(X)"
   ],
   "outputs": [
    {
     "name": "stdout",
     "output_type": "stream",
     "text": [
      "[[4 4 4]\n",
      " [4 4 4]\n",
      " [4 5 5]\n",
      " [5 4 4]\n",
      " [4 5 4]\n",
      " [5 5 5]\n",
      " [4 4 4]\n",
      " [5 5 5]\n",
      " [4 4 5]\n",
      " [4 5 5]]\n"
     ]
    }
   ],
   "execution_count": 17
  },
  {
   "cell_type": "code",
   "metadata": {
    "id": "UiAM62AGc0jf",
    "ExecuteTime": {
     "end_time": "2025-01-28T16:46:18.424339Z",
     "start_time": "2025-01-28T16:46:18.421899Z"
    }
   },
   "source": "print(get_unique_rows(X))",
   "outputs": [
    {
     "name": "stdout",
     "output_type": "stream",
     "text": [
      "[[4 4 4]\n",
      " [4 4 5]\n",
      " [4 5 4]\n",
      " [4 5 5]\n",
      " [5 4 4]\n",
      " [5 5 5]]\n"
     ]
    }
   ],
   "execution_count": 18
  }
 ],
 "metadata": {
  "colab": {
   "provenance": []
  },
  "kernelspec": {
   "display_name": "Python 3 (ipykernel)",
   "language": "python",
   "name": "python3"
  },
  "language_info": {
   "codemirror_mode": {
    "name": "ipython",
    "version": 3
   },
   "file_extension": ".py",
   "mimetype": "text/x-python",
   "name": "python",
   "nbconvert_exporter": "python",
   "pygments_lexer": "ipython3",
   "version": "3.13.1"
  },
  "varInspector": {
   "cols": {
    "lenName": 16,
    "lenType": 16,
    "lenVar": 40
   },
   "kernels_config": {
    "python": {
     "delete_cmd_postfix": "",
     "delete_cmd_prefix": "del ",
     "library": "var_list.py",
     "varRefreshCmd": "print(var_dic_list())"
    },
    "r": {
     "delete_cmd_postfix": ") ",
     "delete_cmd_prefix": "rm(",
     "library": "var_list.r",
     "varRefreshCmd": "cat(var_dic_list()) "
    }
   },
   "types_to_exclude": [
    "module",
    "function",
    "builtin_function_or_method",
    "instance",
    "_Feature"
   ],
   "window_display": false
  }
 },
 "nbformat": 4,
 "nbformat_minor": 4
}
